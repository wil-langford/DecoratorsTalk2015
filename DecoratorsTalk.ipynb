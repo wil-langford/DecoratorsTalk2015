{
 "cells": [
  {
   "cell_type": "markdown",
   "metadata": {},
   "source": [
    "#Intro\n",
    "\n",
    "I'm Wil Langford.  I like math, Python, and games.\n",
    "\n",
    "[me@github](https://github.com/wil-langford)\n",
    "\n",
    "This talk is located in my DecoratorsTalk2015 repository at:\n",
    "\n",
    "https://github.com/wil-langford/DecoratorsTalk2015\n",
    "(or http://goo.gl/AAJ7U0 for short)\n",
    "\n",
    "## Concept roll call\n",
    "* function\n",
    "* function object\n",
    "* wrapper\n",
    "* decorator\n",
    "* `@property`\n",
    "* *(optional)* protocol\n",
    "* *(optional)* descriptor"
   ]
  },
  {
   "cell_type": "markdown",
   "metadata": {},
   "source": [
    "## function"
   ]
  },
  {
   "cell_type": "code",
   "execution_count": null,
   "metadata": {
    "collapsed": true
   },
   "outputs": [],
   "source": [
    "def halve(num):\n",
    "    \"\"\"Returns half of the 'num' argument.\"\"\"\n",
    "    return num / 2"
   ]
  },
  {
   "cell_type": "markdown",
   "metadata": {},
   "source": [
    "## function object"
   ]
  },
  {
   "cell_type": "code",
   "execution_count": null,
   "metadata": {
    "collapsed": false
   },
   "outputs": [],
   "source": [
    "print \"halve's name:\", halve.__name__\n",
    "print \"halve's docstring:\", halve.__doc__"
   ]
  },
  {
   "cell_type": "code",
   "execution_count": null,
   "metadata": {
    "collapsed": false
   },
   "outputs": [],
   "source": [
    "print halve(20)"
   ]
  },
  {
   "cell_type": "code",
   "execution_count": null,
   "metadata": {
    "collapsed": false
   },
   "outputs": [],
   "source": [
    "print halve(10)"
   ]
  },
  {
   "cell_type": "markdown",
   "metadata": {},
   "source": [
    "Uh-oh..."
   ]
  },
  {
   "cell_type": "code",
   "execution_count": null,
   "metadata": {
    "collapsed": false
   },
   "outputs": [],
   "source": [
    "print halve(5)"
   ]
  },
  {
   "cell_type": "code",
   "execution_count": null,
   "metadata": {
    "collapsed": false
   },
   "outputs": [],
   "source": [
    "print [i/2 for i in range(10)]"
   ]
  },
  {
   "cell_type": "code",
   "execution_count": null,
   "metadata": {
    "collapsed": false
   },
   "outputs": [],
   "source": [
    "print [i/2.0 for i in range(10)]"
   ]
  },
  {
   "cell_type": "code",
   "execution_count": null,
   "metadata": {
    "collapsed": false
   },
   "outputs": [],
   "source": [
    "print [float(i)/2 for i in range(10)]"
   ]
  },
  {
   "cell_type": "markdown",
   "metadata": {},
   "source": [
    "## wrapper"
   ]
  },
  {
   "cell_type": "code",
   "execution_count": null,
   "metadata": {
    "collapsed": true
   },
   "outputs": [],
   "source": [
    "def float_wrapper(func):\n",
    "    def wrapper(num):\n",
    "        return func(float(num))\n",
    "    return wrapper"
   ]
  },
  {
   "cell_type": "code",
   "execution_count": null,
   "metadata": {
    "collapsed": false
   },
   "outputs": [],
   "source": [
    "print float_wrapper(halve)(10)\n",
    "print float_wrapper(halve)(5)"
   ]
  },
  {
   "cell_type": "code",
   "execution_count": null,
   "metadata": {
    "collapsed": true
   },
   "outputs": [],
   "source": [
    "halve = float_wrapper(halve)"
   ]
  },
  {
   "cell_type": "code",
   "execution_count": null,
   "metadata": {
    "collapsed": false
   },
   "outputs": [],
   "source": [
    "print halve(10)\n",
    "print halve(5)"
   ]
  },
  {
   "cell_type": "code",
   "execution_count": null,
   "metadata": {
    "collapsed": true
   },
   "outputs": [],
   "source": [
    "def halver(num):\n",
    "    \"\"\"Returns half of the 'num' argument.  This is a reimplementation of halve().\"\"\"\n",
    "    return num / 2\n",
    "halver = float_wrapper(halver)"
   ]
  },
  {
   "cell_type": "code",
   "execution_count": null,
   "metadata": {
    "collapsed": false
   },
   "outputs": [],
   "source": [
    "print halver(5)"
   ]
  },
  {
   "cell_type": "markdown",
   "metadata": {},
   "source": [
    "## decorator"
   ]
  },
  {
   "cell_type": "code",
   "execution_count": null,
   "metadata": {
    "collapsed": true
   },
   "outputs": [],
   "source": [
    "@float_wrapper\n",
    "def halver2(num):\n",
    "    \"\"\"Returns half of the 'num' argument.  This is a re-reimplementation of halve().\"\"\"\n",
    "    return num / 2"
   ]
  },
  {
   "cell_type": "code",
   "execution_count": null,
   "metadata": {
    "collapsed": false
   },
   "outputs": [],
   "source": [
    "print halver2(5)"
   ]
  },
  {
   "cell_type": "markdown",
   "metadata": {},
   "source": [
    "## Dust off your hands and kick back.  We're completely, totally..."
   ]
  },
  {
   "cell_type": "code",
   "execution_count": null,
   "metadata": {
    "collapsed": false
   },
   "outputs": [],
   "source": [
    "print \"halver's name:\", halver.__name__\n",
    "print \"halver's docstring:\", halver.__doc__\n",
    "\n",
    "print \"halver2's name:\", halver2.__name__\n",
    "print \"halver2's docstring:\", halver2.__doc__"
   ]
  },
  {
   "cell_type": "markdown",
   "metadata": {},
   "source": [
    "## ... not done yet."
   ]
  },
  {
   "cell_type": "code",
   "execution_count": null,
   "metadata": {
    "collapsed": true
   },
   "outputs": [],
   "source": [
    "import functools\n",
    "\n",
    "def better_float_wrapper(func):\n",
    "    @functools.wraps(func)\n",
    "    def wrapper(num):\n",
    "        return func(float(num))\n",
    "    return wrapper"
   ]
  },
  {
   "cell_type": "code",
   "execution_count": null,
   "metadata": {
    "collapsed": false
   },
   "outputs": [],
   "source": [
    "@better_float_wrapper\n",
    "def halver3(num):\n",
    "    \"\"\"Returns half of the 'num' argument.  This is a re-reimplementation of halve().\"\"\"\n",
    "    return num / 2"
   ]
  },
  {
   "cell_type": "code",
   "execution_count": null,
   "metadata": {
    "collapsed": false
   },
   "outputs": [],
   "source": [
    "print halver3(5)\n",
    "print \"halver3's name:\", halver3.__name__\n",
    "print \"halver3's docstring:\", halver3.__doc__"
   ]
  },
  {
   "cell_type": "markdown",
   "metadata": {},
   "source": [
    "## Usage of `@property`"
   ]
  },
  {
   "cell_type": "code",
   "execution_count": null,
   "metadata": {
    "collapsed": false
   },
   "outputs": [],
   "source": [
    "class StrictAttributeHolder(object):\n",
    "    def __init__(self):\n",
    "        self.int_val = 0\n",
    "        \n",
    "    @property\n",
    "    def int_val(self):\n",
    "        return self._int_val\n",
    "    \n",
    "    @int_val.setter\n",
    "    def int_val(self, value):\n",
    "        if isinstance(value, int):\n",
    "            self._int_val = value\n",
    "        else:\n",
    "            raise TypeError(\"Can't set int_val to a non-int value!\")"
   ]
  },
  {
   "cell_type": "code",
   "execution_count": null,
   "metadata": {
    "collapsed": true
   },
   "outputs": [],
   "source": [
    "sah = StrictAttributeHolder()"
   ]
  },
  {
   "cell_type": "code",
   "execution_count": null,
   "metadata": {
    "collapsed": true
   },
   "outputs": [],
   "source": [
    "sah.int_val = 5"
   ]
  },
  {
   "cell_type": "code",
   "execution_count": null,
   "metadata": {
    "collapsed": false
   },
   "outputs": [],
   "source": [
    "print sah.int_val"
   ]
  },
  {
   "cell_type": "code",
   "execution_count": null,
   "metadata": {
    "collapsed": false
   },
   "outputs": [],
   "source": [
    "sah.int_val = 5.0"
   ]
  },
  {
   "cell_type": "code",
   "execution_count": null,
   "metadata": {
    "collapsed": false
   },
   "outputs": [],
   "source": [
    "sah.int_val = [5]"
   ]
  },
  {
   "cell_type": "markdown",
   "metadata": {},
   "source": [
    "# Create your own!"
   ]
  },
  {
   "cell_type": "code",
   "execution_count": null,
   "metadata": {
    "collapsed": true
   },
   "outputs": [],
   "source": [
    "# Create a @timed_function decorator that computes and prints the execution time of\n",
    "# any function that it wraps.  Use *args and **kwargs to capture all function\n",
    "# arguments."
   ]
  },
  {
   "cell_type": "code",
   "execution_count": null,
   "metadata": {
    "collapsed": false
   },
   "outputs": [],
   "source": [
    "# Create a @case_mod decorator that gives any function that it wraps an\n",
    "# all-lowercase version of an input string and then returns an all-uppercase\n",
    "# version of the wrapped function's output"
   ]
  },
  {
   "cell_type": "code",
   "execution_count": null,
   "metadata": {
    "collapsed": false
   },
   "outputs": [],
   "source": [
    "# Create a @secured_function decorator that looks for a global password before\n",
    "# running the wrapped function and will raise an exception instead of running\n",
    "# the wrapped function if the wrong password is provided. Use *args and **kwargs\n",
    "# capture all function arguments."
   ]
  },
  {
   "cell_type": "markdown",
   "metadata": {},
   "source": [
    "# and then...\n",
    "\n",
    "Avoid exceptions when running the three cells below.  If you run into problems, try adjusting your decorators above."
   ]
  },
  {
   "cell_type": "code",
   "execution_count": null,
   "metadata": {
    "collapsed": false
   },
   "outputs": [],
   "source": [
    "# Execute this cell without modifying it.\n",
    "picky_eater_food = \"You can now write your own decorators!\".split(' ')\n",
    "\n",
    "@secured_function\n",
    "@timed_function\n",
    "@case_mod\n",
    "def picky_eater(food):\n",
    "    if food.islower():\n",
    "        time.sleep(0.1 * len(food))\n",
    "        return food\n",
    "    else:\n",
    "        raise Exception(\"I don't wanna eat this!\")"
   ]
  },
  {
   "cell_type": "code",
   "execution_count": null,
   "metadata": {
    "collapsed": true
   },
   "outputs": [],
   "source": [
    "# Change ONLY the value of the global PASSWORD in this cell, then execute it.\n",
    "global PASSWORD\n",
    "PASSWORD = ''"
   ]
  },
  {
   "cell_type": "code",
   "execution_count": null,
   "metadata": {
    "collapsed": false
   },
   "outputs": [],
   "source": [
    "# Run this cell without any exceptions cropping up and with a time printed out\n",
    "# for each morsel in picky_eater_food.\n",
    "for morsel in picky_eater_food:\n",
    "    print picky_eater(morsel)"
   ]
  },
  {
   "cell_type": "markdown",
   "metadata": {},
   "source": [
    "# Optional stuff\n",
    "## Under the hood of `@property`\n",
    "* descriptor protocol\n",
    "  * `__get__()` (required)\n",
    "  * `__set__()` (optional)\n",
    "  * `__del__()` (optional)\n",
    "\n",
    "* object attribute access\n",
    "* property() returns a descriptor"
   ]
  },
  {
   "cell_type": "markdown",
   "metadata": {},
   "source": [
    "# Next steps\n",
    "* Using classes as decorators\n",
    "  * Give this a try!  It can be a little more straightforward.\n",
    "* Decorators with arguments\n",
    "  * Example: Django's `@require_http_methods([\"GET\", \"POST\"])`"
   ]
  },
  {
   "cell_type": "code",
   "execution_count": null,
   "metadata": {
    "collapsed": true
   },
   "outputs": [],
   "source": []
  }
 ],
 "metadata": {
  "kernelspec": {
   "display_name": "Python 2",
   "language": "python",
   "name": "python2"
  },
  "language_info": {
   "codemirror_mode": {
    "name": "ipython",
    "version": 2
   },
   "file_extension": ".py",
   "mimetype": "text/x-python",
   "name": "python",
   "nbconvert_exporter": "python",
   "pygments_lexer": "ipython2",
   "version": "2.7.9"
  }
 },
 "nbformat": 4,
 "nbformat_minor": 0
}
